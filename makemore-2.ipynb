{
 "cells": [
  {
   "cell_type": "code",
   "execution_count": 2,
   "metadata": {},
   "outputs": [],
   "source": [
    "import matplotlib.pyplot as plt\n",
    "import torch\n",
    "import torch.nn.functional as F\n",
    "%matplotlib inline"
   ]
  },
  {
   "cell_type": "code",
   "execution_count": 3,
   "metadata": {},
   "outputs": [],
   "source": [
    "words = open('names.txt', 'r').read().splitlines()"
   ]
  },
  {
   "cell_type": "code",
   "execution_count": 4,
   "metadata": {},
   "outputs": [
    {
     "data": {
      "text/plain": [
       "32033"
      ]
     },
     "execution_count": 4,
     "metadata": {},
     "output_type": "execute_result"
    }
   ],
   "source": [
    "len(words)"
   ]
  },
  {
   "cell_type": "code",
   "execution_count": 6,
   "metadata": {},
   "outputs": [
    {
     "name": "stdout",
     "output_type": "stream",
     "text": [
      "{1: 'a', 2: 'b', 3: 'c', 4: 'd', 5: 'e', 6: 'f', 7: 'g', 8: 'h', 9: 'i', 10: 'j', 11: 'k', 12: 'l', 13: 'm', 14: 'n', 15: 'o', 16: 'p', 17: 'q', 18: 'r', 19: 's', 20: 't', 21: 'u', 22: 'v', 23: 'w', 24: 'x', 25: 'y', 26: 'z', 0: '.'}\n"
     ]
    }
   ],
   "source": [
    "chars = sorted(list(set(''.join(words))))\n",
    "stoi = {s:i+1 for i,s in enumerate(chars)}\n",
    "stoi['.'] = 0\n",
    "itos = {i:s for s, i in stoi.items()}\n",
    "print(itos)"
   ]
  },
  {
   "cell_type": "code",
   "execution_count": 61,
   "metadata": {},
   "outputs": [],
   "source": [
    "# build the dataset\n",
    "block_size = 3\n",
    "X, Y = [], []\n",
    "\n",
    "for w in words:\n",
    "    # create array of block_size with all 0s\n",
    "    context = [0] * block_size\n",
    "    for ch in w + '.':\n",
    "        ix = stoi[ch]\n",
    "        X.append(context)\n",
    "        Y.append(ix)\n",
    "        context = context[1:] + [ix] # crop and append\n",
    "\n",
    "X = torch.tensor(X)\n",
    "Y = torch.tensor(Y)"
   ]
  },
  {
   "cell_type": "code",
   "execution_count": 62,
   "metadata": {},
   "outputs": [
    {
     "data": {
      "text/plain": [
       "(torch.Size([228146, 3]), torch.Size([228146]))"
      ]
     },
     "execution_count": 62,
     "metadata": {},
     "output_type": "execute_result"
    }
   ],
   "source": [
    "X.shape, Y.shape"
   ]
  },
  {
   "cell_type": "code",
   "execution_count": 223,
   "metadata": {},
   "outputs": [],
   "source": [
    "def generate_data(words):\n",
    "    # build the dataset\n",
    "    block_size = 5\n",
    "    X, Y = [], []\n",
    "\n",
    "    for w in words:\n",
    "        # create array of block_size with all 0s\n",
    "        context = [0] * block_size\n",
    "        for ch in w + '.':\n",
    "            ix = stoi[ch]\n",
    "            X.append(context)\n",
    "            Y.append(ix)\n",
    "            context = context[1:] + [ix] # crop and append\n",
    "\n",
    "    X = torch.tensor(X)\n",
    "    Y = torch.tensor(Y)\n",
    "    print(\"Size: \", len(words))\n",
    "    return X, Y"
   ]
  },
  {
   "cell_type": "code",
   "execution_count": 224,
   "metadata": {},
   "outputs": [
    {
     "data": {
      "text/plain": [
       "(25626, 28829)"
      ]
     },
     "execution_count": 224,
     "metadata": {},
     "output_type": "execute_result"
    }
   ],
   "source": [
    "import random\n",
    "random.seed(42)\n",
    "random.shuffle(words)\n",
    "\n",
    "n1 = int(len(words) * 0.8)\n",
    "n2 = int(len(words) * 0.9)\n",
    "n1, n2"
   ]
  },
  {
   "cell_type": "code",
   "execution_count": 225,
   "metadata": {},
   "outputs": [
    {
     "name": "stdout",
     "output_type": "stream",
     "text": [
      "Size:  25626\n",
      "Size:  3203\n",
      "Size:  3204\n"
     ]
    }
   ],
   "source": [
    "x_train, y_train = generate_data(words[:n1])\n",
    "dev_x_train, dev_y_train = generate_data(words[n1:n2])\n",
    "test_x_train, test_y_train = generate_data(words[n2:])\n"
   ]
  },
  {
   "cell_type": "code",
   "execution_count": 226,
   "metadata": {},
   "outputs": [],
   "source": [
    "C = torch.randn((27, 10))\n",
    "w1 = torch.randn((50, 200)) # 6 inputs and 100 outputs\n",
    "b1  = torch.randn(200)\n",
    "w2 = torch.randn(200, 27)\n",
    "b2 = torch.randn(27)\n",
    "parameters = [C, w1, b1, w2, b2]"
   ]
  },
  {
   "cell_type": "code",
   "execution_count": 227,
   "metadata": {},
   "outputs": [
    {
     "data": {
      "text/plain": [
       "15897"
      ]
     },
     "execution_count": 227,
     "metadata": {},
     "output_type": "execute_result"
    }
   ],
   "source": [
    "sum(p.nelement() for p in parameters) # number of parameters"
   ]
  },
  {
   "cell_type": "code",
   "execution_count": 228,
   "metadata": {},
   "outputs": [],
   "source": [
    "for p in parameters:\n",
    "    p.requires_grad = True"
   ]
  },
  {
   "attachments": {},
   "cell_type": "markdown",
   "metadata": {},
   "source": [
    "### How to identify a good learning rate? \n",
    "We can create an array from range and then run the training pass through each element of that array. Each pass will result in learning rate -> loss mapping.\n",
    "This mapping can be used to identify learning rate with minimum loss."
   ]
  },
  {
   "cell_type": "code",
   "execution_count": 229,
   "metadata": {},
   "outputs": [],
   "source": [
    "# instead of stepping through it lineraly we should do it exponentially\n",
    "# so that we can process on same learning rate multiple times\n",
    "lre = torch.linspace(-3, 0, 1000)\n",
    "lrs = 10**lre"
   ]
  },
  {
   "cell_type": "code",
   "execution_count": 230,
   "metadata": {},
   "outputs": [],
   "source": [
    "losses = []\n",
    "steps = []"
   ]
  },
  {
   "cell_type": "code",
   "execution_count": 239,
   "metadata": {},
   "outputs": [
    {
     "name": "stdout",
     "output_type": "stream",
     "text": [
      "torch.Size([32, 5, 10])\n",
      "tensor([[[ 0.2243, -1.9641, -2.2097,  ..., -0.0043,  1.6204,  2.1278],\n",
      "         [ 0.2243, -1.9641, -2.2097,  ..., -0.0043,  1.6204,  2.1278],\n",
      "         [ 0.2243, -1.9641, -2.2097,  ..., -0.0043,  1.6204,  2.1278],\n",
      "         [ 0.2243, -1.9641, -2.2097,  ..., -0.0043,  1.6204,  2.1278],\n",
      "         [-0.2097,  0.9468,  0.5897,  ..., -1.3321,  0.3536,  0.2094]],\n",
      "\n",
      "        [[-1.3532,  0.8681,  0.2830,  ..., -0.0266,  0.8598, -0.2959],\n",
      "         [-1.0946,  0.9794, -0.4433,  ..., -0.8509,  0.5983, -0.6248],\n",
      "         [-1.1074,  1.0654,  0.1352,  ..., -0.5950, -0.2166,  0.7123],\n",
      "         [-1.1074,  1.0654,  0.1352,  ..., -0.5950, -0.2166,  0.7123],\n",
      "         [-1.0946,  0.9794, -0.4433,  ..., -0.8509,  0.5983, -0.6248]],\n",
      "\n",
      "        [[ 0.2243, -1.9641, -2.2097,  ..., -0.0043,  1.6204,  2.1278],\n",
      "         [ 0.2243, -1.9641, -2.2097,  ..., -0.0043,  1.6204,  2.1278],\n",
      "         [ 0.2243, -1.9641, -2.2097,  ..., -0.0043,  1.6204,  2.1278],\n",
      "         [ 0.2243, -1.9641, -2.2097,  ..., -0.0043,  1.6204,  2.1278],\n",
      "         [ 0.2243, -1.9641, -2.2097,  ..., -0.0043,  1.6204,  2.1278]],\n",
      "\n",
      "        ...,\n",
      "\n",
      "        [[-0.3046,  0.4974,  0.8482,  ..., -1.2699,  0.7080,  0.6041],\n",
      "         [-0.3046,  0.4974,  0.8482,  ..., -1.2699,  0.7080,  0.6041],\n",
      "         [-1.0946,  0.9794, -0.4433,  ..., -0.8509,  0.5983, -0.6248],\n",
      "         [-0.5294,  0.8470,  0.0496,  ..., -1.2311,  0.2160,  0.2763],\n",
      "         [-1.3532,  0.8681,  0.2830,  ..., -0.0266,  0.8598, -0.2959]],\n",
      "\n",
      "        [[ 0.2243, -1.9641, -2.2097,  ..., -0.0043,  1.6204,  2.1278],\n",
      "         [-1.4396,  0.3336,  0.1497,  ..., -0.4612,  0.3954, -0.2153],\n",
      "         [-0.5294,  0.8470,  0.0496,  ..., -1.2311,  0.2160,  0.2763],\n",
      "         [-0.5294,  0.8470,  0.0496,  ..., -1.2311,  0.2160,  0.2763],\n",
      "         [-1.4396,  0.3336,  0.1497,  ..., -0.4612,  0.3954, -0.2153]],\n",
      "\n",
      "        [[ 0.2243, -1.9641, -2.2097,  ..., -0.0043,  1.6204,  2.1278],\n",
      "         [ 0.2243, -1.9641, -2.2097,  ..., -0.0043,  1.6204,  2.1278],\n",
      "         [ 0.2243, -1.9641, -2.2097,  ..., -0.0043,  1.6204,  2.1278],\n",
      "         [ 0.2243, -1.9641, -2.2097,  ..., -0.0043,  1.6204,  2.1278],\n",
      "         [ 0.2243, -1.9641, -2.2097,  ..., -0.0043,  1.6204,  2.1278]]],\n",
      "       grad_fn=<IndexBackward0>)\n"
     ]
    },
    {
     "data": {
      "text/plain": [
       "1.9579042196273804"
      ]
     },
     "execution_count": 239,
     "metadata": {},
     "output_type": "execute_result"
    }
   ],
   "source": [
    "final_loss = 0\n",
    "l_rates = []\n",
    "flag = True\n",
    "for i in range(200000):\n",
    "    # mini batch construst\n",
    "    # instead of looking at all the data in X and Y we can \n",
    "    # look at it in random batches to make the whole thing fast\n",
    "    ix = torch.randint(0, x_train.shape[0], (32,))\n",
    "    # forward pass    \n",
    "    emb = C[x_train[ix]]\n",
    "    if (flag):\n",
    "        print(emb.shape)\n",
    "        print(emb)\n",
    "        flag = False\n",
    "\n",
    "    h  = torch.tanh(emb.view(emb.shape[0], 50) @ w1 + b1)\n",
    "    logits = h @ w2 + b2\n",
    "    # counts = logits.exp()\n",
    "    # probs = counts/counts.sum(1, keepdim=True)\n",
    "    # loss = -probs[torch.arange(32), Y].log().mean()\n",
    "\n",
    "    # @notes instead of calculating loss like we did earlier we can use this function from pytorch\n",
    "    loss = F.cross_entropy(logits, y_train[ix])\n",
    "    final_loss = loss\n",
    "    # backward pass\n",
    "    for p in parameters:\n",
    "        p.grad = None\n",
    "    loss.backward()\n",
    "    l_rate = 0.1 if i < 100000 else 0.01\n",
    "    #update\n",
    "    for p in parameters:\n",
    "        p.data += -l_rate * p.grad\n",
    "    \n",
    "    # record metrics @commented for learning rate identification\n",
    "    # l_rates.append(lre[i])\n",
    "    steps.append(i)\n",
    "    losses.append(loss.log10().item())\n",
    "\n",
    "final_loss.item()"
   ]
  },
  {
   "cell_type": "code",
   "execution_count": 240,
   "metadata": {},
   "outputs": [
    {
     "data": {
      "text/plain": [
       "[<matplotlib.lines.Line2D at 0x17a4330d0>]"
      ]
     },
     "execution_count": 240,
     "metadata": {},
     "output_type": "execute_result"
    },
    {
     "data": {
      "image/png": "[encoded data removed]",
      "text/plain": [
       "<Figure size 640x480 with 1 Axes>"
      ]
     },
     "metadata": {},
     "output_type": "display_data"
    }
   ],
   "source": [
    "plt.plot(steps, losses)"
   ]
  },
  {
   "cell_type": "code",
   "execution_count": 241,
   "metadata": {},
   "outputs": [
    {
     "data": {
      "text/plain": [
       "2.1490509510040283"
      ]
     },
     "execution_count": 241,
     "metadata": {},
     "output_type": "execute_result"
    }
   ],
   "source": [
    "# loss on all the dev\n",
    "emb = C[dev_x_train]\n",
    "h  = torch.tanh(emb.view(emb.shape[0], 50) @ w1 + b1)\n",
    "logits = h @ w2 + b2\n",
    "F.cross_entropy(logits, dev_y_train).item()"
   ]
  },
  {
   "cell_type": "code",
   "execution_count": 242,
   "metadata": {},
   "outputs": [
    {
     "data": {
      "text/plain": [
       "2.1475346088409424"
      ]
     },
     "execution_count": 242,
     "metadata": {},
     "output_type": "execute_result"
    }
   ],
   "source": [
    "# loss on all the test\n",
    "emb = C[test_x_train]\n",
    "h  = torch.tanh(emb.view(emb.shape[0], 50) @ w1 + b1)\n",
    "logits = h @ w2 + b2\n",
    "F.cross_entropy(logits, test_y_train).item()"
   ]
  },
  {
   "cell_type": "code",
   "execution_count": 243,
   "metadata": {},
   "outputs": [
    {
     "data": {
      "image/png": "[encoded data removed]",
      "text/plain": [
       "<Figure size 800x800 with 1 Axes>"
      ]
     },
     "metadata": {},
     "output_type": "display_data"
    }
   ],
   "source": [
    "# embedding plot\n",
    "\n",
    "plt.figure(figsize=(8, 8))\n",
    "plt.scatter(C[:,0].data, C[:,1].data, s=200)\n",
    "for i in range(C.shape[0]):\n",
    "    plt.text(C[i, 0].item(), C[i, 1].item(), itos[i], ha=\"center\", va=\"center\", color=\"white\")\n",
    "\n",
    "plt.grid('minor')\n"
   ]
  },
  {
   "cell_type": "code",
   "execution_count": 245,
   "metadata": {},
   "outputs": [],
   "source": [
    "#plt.plot(l_rates, losses)"
   ]
  },
  {
   "cell_type": "code",
   "execution_count": 249,
   "metadata": {},
   "outputs": [
    {
     "name": "stdout",
     "output_type": "stream",
     "text": [
      "carmah.\n",
      "amelie.\n",
      "khiemrix.\n",
      "tety.\n",
      "skaadan.\n",
      "jazonte.\n",
      "deliah.\n",
      "jageri.\n",
      "nella.\n",
      "archaily.\n",
      "kaleigh.\n",
      "hamon.\n",
      "cadqurltin.\n",
      "lilea.\n",
      "jadbi.\n",
      "wazelo.\n",
      "dearyn.\n",
      "kakye.\n",
      "pilsa.\n",
      "medde.\n"
     ]
    }
   ],
   "source": [
    "# sampling from model (generating output)\n",
    "g = torch.Generator().manual_seed(2147483647 + 10)\n",
    "for i in range(20):\n",
    "    out = []\n",
    "    context = [0] * 5 # initialize with all ....\n",
    "    while True:\n",
    "        emb = C[torch.tensor([context])] # embedding of input (1, block_size, d)\n",
    "        h = torch.tanh(emb.view(1, -1) @ w1 + b1)\n",
    "        logits = h @ w2 + b2\n",
    "        probs = F.softmax(logits, dim=1)        \n",
    "        idx = torch.multinomial(probs, num_samples=1, replacement=True, generator=g).item()\n",
    "        context = context[1:] + [idx]\n",
    "        out.append(idx)\n",
    "        if (idx == 0):\n",
    "            break\n",
    "\n",
    "    print(''.join(itos[i] for i in out))"
   ]
  },
  {
   "cell_type": "code",
   "execution_count": 220,
   "metadata": {},
   "outputs": [
    {
     "data": {
      "image/png": "[encoded data removed]",
      "text/plain": [
       "<Figure size 1000x600 with 1 Axes>"
      ]
     },
     "metadata": {},
     "output_type": "display_data"
    }
   ],
   "source": [
    "# embedding plot n dimensional\n",
    "\n",
    "fig = plt.figure(figsize=(10, 6))\n",
    "ax = fig.add_subplot(111, projection='3d')\n",
    "\n",
    "ax.scatter(C[:,0].data, C[:,1].data, C[:,2].data, c='b', marker='o')\n",
    "ax.set_xlabel('X')\n",
    "ax.set_ylabel('Y')\n",
    "ax.set_zlabel('Z')  \n",
    "\n",
    "plt.show()\n",
    "\n"
   ]
  },
  {
   "cell_type": "code",
   "execution_count": 222,
   "metadata": {},
   "outputs": [
    {
     "data": {
      "text/plain": [
       "-1.8848999999999998"
      ]
     },
     "execution_count": 222,
     "metadata": {},
     "output_type": "execute_result"
    }
   ],
   "source": []
  },
  {
   "cell_type": "code",
   "execution_count": null,
   "metadata": {},
   "outputs": [],
   "source": []
  },
  {
   "attachments": {},
   "cell_type": "markdown",
   "metadata": {},
   "source": [
    "#### Test result 1\n",
    "\n",
    "* Training data loss: 2.2163147926330566\n",
    "* Dev/Validation data loss: 2.167039394378662\n",
    "* Test data loss: 2.1679739952087402\n",
    "\n",
    "###### sampling output\n",
    "\n",
    "carmah.\n",
    "ambrie.\n",
    "khi.\n",
    "milia.\n",
    "aty.\n",
    "skanya.\n",
    "emmahubbiemeryra.\n",
    "kaeli.\n",
    "nellara.\n",
    "chaihvik.\n",
    "leggyl.\n",
    "luce.\n",
    "cadeen.\n",
    "tis.\n",
    "lilea.\n",
    "jadia.\n",
    "waodha.\n",
    "dearyx.\n",
    "kai.\n",
    "eupius."
   ]
  },
  {
   "attachments": {},
   "cell_type": "markdown",
   "metadata": {},
   "source": [
    "#### Test result 2 (increased batch size from 3 to 5)\n",
    "\n",
    "* Training data loss: 1.9579042196273804\n",
    "* Dev/Validation data loss: 2.1490509510040283\n",
    "* Test data loss: 2.1475346088409424\n",
    "\n",
    "###### sampling output\n",
    "\n",
    "carmah.\n",
    "amelie.\n",
    "khiemrix.\n",
    "tety.\n",
    "skaadan.\n",
    "jazonte.\n",
    "deliah.\n",
    "jageri.\n",
    "nella.\n",
    "archaily.\n",
    "kaleigh.\n",
    "hamon.\n",
    "cadqurltin.\n",
    "lilea.\n",
    "jadbi.\n",
    "wazelo.\n",
    "dearyn.\n",
    "kakye.\n",
    "pilsa.\n",
    "medde."
   ]
  },
  {
   "cell_type": "code",
   "execution_count": null,
   "metadata": {},
   "outputs": [],
   "source": []
  },
  {
   "cell_type": "code",
   "execution_count": null,
   "metadata": {},
   "outputs": [],
   "source": []
  },
  {
   "cell_type": "code",
   "execution_count": null,
   "metadata": {},
   "outputs": [],
   "source": []
  },
  {
   "cell_type": "code",
   "execution_count": null,
   "metadata": {},
   "outputs": [],
   "source": []
  },
  {
   "cell_type": "code",
   "execution_count": null,
   "metadata": {},
   "outputs": [],
   "source": []
  },
  {
   "cell_type": "code",
   "execution_count": null,
   "metadata": {},
   "outputs": [],
   "source": []
  },
  {
   "cell_type": "code",
   "execution_count": null,
   "metadata": {},
   "outputs": [],
   "source": []
  },
  {
   "cell_type": "code",
   "execution_count": null,
   "metadata": {},
   "outputs": [],
   "source": []
  },
  {
   "cell_type": "code",
   "execution_count": null,
   "metadata": {},
   "outputs": [],
   "source": []
  },
  {
   "cell_type": "code",
   "execution_count": null,
   "metadata": {},
   "outputs": [],
   "source": []
  },
  {
   "cell_type": "code",
   "execution_count": null,
   "metadata": {},
   "outputs": [],
   "source": []
  },
  {
   "cell_type": "code",
   "execution_count": null,
   "metadata": {},
   "outputs": [],
   "source": []
  },
  {
   "cell_type": "code",
   "execution_count": null,
   "metadata": {},
   "outputs": [],
   "source": []
  },
  {
   "cell_type": "code",
   "execution_count": null,
   "metadata": {},
   "outputs": [],
   "source": []
  },
  {
   "cell_type": "code",
   "execution_count": null,
   "metadata": {},
   "outputs": [],
   "source": []
  },
  {
   "cell_type": "code",
   "execution_count": null,
   "metadata": {},
   "outputs": [],
   "source": []
  },
  {
   "cell_type": "code",
   "execution_count": null,
   "metadata": {},
   "outputs": [],
   "source": []
  },
  {
   "cell_type": "code",
   "execution_count": null,
   "metadata": {},
   "outputs": [],
   "source": []
  },
  {
   "cell_type": "code",
   "execution_count": null,
   "metadata": {},
   "outputs": [],
   "source": []
  }
 ],
 "metadata": {
  "kernelspec": {
   "display_name": "Python 3",
   "language": "python",
   "name": "python3"
  },
  "language_info": {
   "codemirror_mode": {
    "name": "ipython",
    "version": 3
   },
   "file_extension": ".py",
   "mimetype": "text/x-python",
   "name": "python",
   "nbconvert_exporter": "python",
   "pygments_lexer": "ipython3",
   "version": "3.11.3"
  },
  "orig_nbformat": 4
 },
 "nbformat": 4,
 "nbformat_minor": 2
}
