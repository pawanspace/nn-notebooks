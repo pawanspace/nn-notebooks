{
 "cells": [
  {
   "cell_type": "code",
   "execution_count": 1,
   "metadata": {},
   "outputs": [],
   "source": [
    "import random\n",
    "\n",
    "def simulate_factory_cost(size, land_cost, labor_cost):\n",
    "    \"\"\"\n",
    "    Simulates the cost of building a factory.\n",
    "\n",
    "    Args:\n",
    "        size: The size of the factory.\n",
    "        land_cost: The cost of land.\n",
    "        labor_cost: The cost of labor.\n",
    "\n",
    "    Returns:\n",
    "        The cost of building the factory.\n",
    "    \"\"\"\n",
    "\n",
    "    # Generate random values for the cost of land and labor.\n",
    "    land_cost_random = random.uniform(land_cost[0], land_cost[1])\n",
    "    labor_cost_random = random.uniform(labor_cost[0], labor_cost[1])\n",
    "\n",
    "    # Calculate the cost of building the factory.\n",
    "    cost = size * land_cost_random + labor_cost_random\n",
    "\n",
    "    return cost\n",
    "\n",
    "def monte_carlo_simulation(size, land_cost, labor_cost, num_iterations):\n",
    "    \"\"\"\n",
    "    Performs a Monte Carlo simulation to estimate the cost of building a factory.\n",
    "\n",
    "    Args:\n",
    "        size: The size of the factory.\n",
    "        land_cost: The cost of land.\n",
    "        labor_cost: The cost of labor.\n",
    "        num_iterations: The number of iterations to perform.\n",
    "\n",
    "    Returns:\n",
    "        The estimated cost of building the factory.\n",
    "    \"\"\"\n",
    "\n",
    "    # Initialize the cost distribution.\n",
    "    cost_distribution = []\n",
    "\n",
    "    # Perform the Monte Carlo simulation.\n",
    "    for i in range(num_iterations):\n",
    "        cost = simulate_factory_cost(size, land_cost, labor_cost)\n",
    "        cost_distribution.append(cost)\n",
    "\n",
    "    # Calculate the estimated cost of building the factory.\n",
    "    estimated_cost = sum(cost_distribution) / num_iterations\n",
    "\n",
    "    return estimated_cost, cost_distribution\n",
    "\n"
   ]
  },
  {
   "cell_type": "code",
   "execution_count": 25,
   "metadata": {},
   "outputs": [
    {
     "name": "stdout",
     "output_type": "stream",
     "text": [
      "The estimated cost of building the factory is: $ 15014387555.386097\n"
     ]
    }
   ],
   "source": [
    "# Set the parameters of the simulation.\n",
    "size = 100000\n",
    "land_cost = (100000, 200000)\n",
    "labor_cost = (50000, 100000)\n",
    "num_iterations = 100000\n",
    "\n",
    "# Perform the Monte Carlo simulation.\n",
    "estimated_cost, cost_distribution = monte_carlo_simulation(size, land_cost, labor_cost, num_iterations)\n",
    "\n",
    "# Print the estimated cost.\n",
    "print(\"The estimated cost of building the factory is: $\", estimated_cost)"
   ]
  },
  {
   "cell_type": "code",
   "execution_count": 26,
   "metadata": {},
   "outputs": [],
   "source": [
    "import matplotlib.pyplot as plt"
   ]
  },
  {
   "cell_type": "code",
   "execution_count": 27,
   "metadata": {},
   "outputs": [
    {
     "data": {
      "text/plain": [
       "[<matplotlib.lines.Line2D at 0x16a180bd0>,\n",
       " <matplotlib.lines.Line2D at 0x146b8ad50>]"
      ]
     },
     "execution_count": 27,
     "metadata": {},
     "output_type": "execute_result"
    },
    {
     "data": {
      "image/png": "[encoded data removed]",
      "text/plain": [
       "<Figure size 640x480 with 1 Axes>"
      ]
     },
     "metadata": {},
     "output_type": "display_data"
    }
   ],
   "source": [
    "plt.plot(list(((v/10000000, i) for i, v in enumerate(cost_distribution))))"
   ]
  },
  {
   "cell_type": "code",
   "execution_count": 19,
   "metadata": {},
   "outputs": [
    {
     "data": {
      "text/plain": [
       "[(0, 15504226326.805637),\n",
       " (1, 11095910230.737047),\n",
       " (2, 11831350762.196936),\n",
       " (3, 10982890077.203623),\n",
       " (4, 19091431832.68589),\n",
       " (5, 17563860431.336422),\n",
       " (6, 10834442090.079447),\n",
       " (7, 12263141952.842798),\n",
       " (8, 17560600756.878403),\n",
       " (9, 11117823076.7204),\n",
       " (10, 16458654952.160858),\n",
       " (11, 14764089418.095057),\n",
       " (12, 14837443162.322496),\n",
       " (13, 17049103098.297724),\n",
       " (14, 13159965300.134666),\n",
       " (15, 10274571801.085283),\n",
       " (16, 15403333510.711943),\n",
       " (17, 10054807010.998959),\n",
       " (18, 11528019115.748898),\n",
       " (19, 14661774355.23817),\n",
       " (20, 11819364167.574707),\n",
       " (21, 18937689118.314182),\n",
       " (22, 15956635876.055283),\n",
       " (23, 12660083416.72691),\n",
       " (24, 18865017905.50826),\n",
       " (25, 16116866549.182552),\n",
       " (26, 14366447575.713398),\n",
       " (27, 14215503616.28798),\n",
       " (28, 12978917856.139236),\n",
       " (29, 16635067328.12711),\n",
       " (30, 17535589151.22956),\n",
       " (31, 16452867667.050112),\n",
       " (32, 17128661824.348375),\n",
       " (33, 11966947193.335583),\n",
       " (34, 19818196272.170788),\n",
       " (35, 11630034923.610643),\n",
       " (36, 15519116623.476835),\n",
       " (37, 16287596350.218788),\n",
       " (38, 19429091406.00472),\n",
       " (39, 10190045412.974031),\n",
       " (40, 10104964411.999313),\n",
       " (41, 12660878548.621454),\n",
       " (42, 18073135921.59205),\n",
       " (43, 13725512229.622725),\n",
       " (44, 13532869821.88952),\n",
       " (45, 17165864778.14749),\n",
       " (46, 19833558142.523376),\n",
       " (47, 18037940777.206528),\n",
       " (48, 14077770666.716442),\n",
       " (49, 19179148220.40288),\n",
       " (50, 12312097973.442331),\n",
       " (51, 10735452728.522835),\n",
       " (52, 15073172853.280832),\n",
       " (53, 11458099313.316391),\n",
       " (54, 17829504129.35546),\n",
       " (55, 17701086460.238354),\n",
       " (56, 17026009404.741331),\n",
       " (57, 13048027466.106934),\n",
       " (58, 17661815420.867367),\n",
       " (59, 14623675313.913277),\n",
       " (60, 10353851260.94664),\n",
       " (61, 11462651001.069288),\n",
       " (62, 16888785883.539818),\n",
       " (63, 13637273664.382921),\n",
       " (64, 13046654782.09385),\n",
       " (65, 10393752474.314716),\n",
       " (66, 16921003512.704765),\n",
       " (67, 18358196708.77514),\n",
       " (68, 13124706412.69993),\n",
       " (69, 12841725878.514912),\n",
       " (70, 17542380645.546616),\n",
       " (71, 10985175302.983786),\n",
       " (72, 19413941513.393116),\n",
       " (73, 17295450167.565266),\n",
       " (74, 13561949868.818964),\n",
       " (75, 15465267334.561497),\n",
       " (76, 18802697277.128128),\n",
       " (77, 12716784418.786291),\n",
       " (78, 14263931491.802565),\n",
       " (79, 19132884017.349907),\n",
       " (80, 18308280701.72302),\n",
       " (81, 15037959824.102251),\n",
       " (82, 10013975085.776258),\n",
       " (83, 12345570681.31031),\n",
       " (84, 18544056384.23692),\n",
       " (85, 12341517432.156246),\n",
       " (86, 10325091869.083467),\n",
       " (87, 14148816509.203457),\n",
       " (88, 10335475197.512388),\n",
       " (89, 12661438384.077637),\n",
       " (90, 13817196084.216785),\n",
       " (91, 19636438636.31585),\n",
       " (92, 15482745514.911173),\n",
       " (93, 18320869260.632305),\n",
       " (94, 14006230842.89945),\n",
       " (95, 11118153381.139435),\n",
       " (96, 10405265981.747454),\n",
       " (97, 10241422219.079725),\n",
       " (98, 14797240774.796917),\n",
       " (99, 13451045495.240978)]"
      ]
     },
     "execution_count": 19,
     "metadata": {},
     "output_type": "execute_result"
    }
   ],
   "source": []
  }
 ],
 "metadata": {
  "kernelspec": {
   "display_name": "Python 3",
   "language": "python",
   "name": "python3"
  },
  "language_info": {
   "codemirror_mode": {
    "name": "ipython",
    "version": 3
   },
   "file_extension": ".py",
   "mimetype": "text/x-python",
   "name": "python",
   "nbconvert_exporter": "python",
   "pygments_lexer": "ipython3",
   "version": "3.11.3"
  },
  "orig_nbformat": 4
 },
 "nbformat": 4,
 "nbformat_minor": 2
}
